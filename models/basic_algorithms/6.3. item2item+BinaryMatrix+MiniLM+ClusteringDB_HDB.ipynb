{
 "cells": [
  {
   "cell_type": "code",
   "execution_count": 6,
   "metadata": {
    "executionInfo": {
     "elapsed": 8,
     "status": "ok",
     "timestamp": 1745924170726,
     "user": {
      "displayName": "Georgii Budnik",
      "userId": "14371656724304164452"
     },
     "user_tz": -600
    },
    "id": "vrQhvpFQLNUP"
   },
   "outputs": [],
   "source": [
    "# ====================================\n",
    "# Notebook 6.3: Item2Item + MiniLM + Clustering (DBSCAN / HDBSCAN)\n",
    "# Description:\n",
    "# This notebook uses an Item2Item model on the binary user-item matrix.\n",
    "# Re-ranking is performed with MiniLM semantic similarity and attention to DBSCAN and HDBSCAN clusters.\n",
    "# Evaluated using nDCG@20 and Recall@20.\n",
    "# ===================================="
   ]
  },
  {
   "cell_type": "code",
   "execution_count": 2,
   "metadata": {
    "colab": {
     "base_uri": "https://localhost:8080/"
    },
    "executionInfo": {
     "elapsed": 40003,
     "status": "ok",
     "timestamp": 1745924024765,
     "user": {
      "displayName": "Georgii Budnik",
      "userId": "14371656724304164452"
     },
     "user_tz": -600
    },
    "id": "EgMrDIDXLbap",
    "outputId": "81ab0601-8585-48f0-9d95-a6588c407ddb"
   },
   "outputs": [
    {
     "name": "stdout",
     "output_type": "stream",
     "text": [
      "Cloning into 'My-BS-Thesis'...\n",
      "remote: Enumerating objects: 133, done.\u001b[K\n",
      "remote: Counting objects: 100% (133/133), done.\u001b[K\n",
      "remote: Compressing objects: 100% (128/128), done.\u001b[K\n",
      "remote: Total 133 (delta 43), reused 0 (delta 0), pack-reused 0 (from 0)\u001b[K\n",
      "Receiving objects: 100% (133/133), 201.78 MiB | 21.00 MiB/s, done.\n",
      "Resolving deltas: 100% (43/43), done.\n"
     ]
    }
   ],
   "source": [
    "import os\n",
    "\n",
    "# === Clone GitHub repository ===\n",
    "repo_dir = \"My-BS-Thesis\"\n",
    "\n",
    "if os.path.exists(repo_dir):\n",
    "    print(f\"{repo_dir} already exists. Removing it...\\n\")\n",
    "    !rm -r {repo_dir}\n",
    "\n",
    "!git clone https://github.com/Goshmar/My-BS-Thesis"
   ]
  },
  {
   "cell_type": "code",
   "execution_count": 22,
   "metadata": {
    "colab": {
     "base_uri": "https://localhost:8080/"
    },
    "executionInfo": {
     "elapsed": 5687,
     "status": "ok",
     "timestamp": 1745925575093,
     "user": {
      "displayName": "Georgii Budnik",
      "userId": "14371656724304164452"
     },
     "user_tz": -600
    },
    "id": "qmEuyjkfLgtZ",
    "outputId": "b87e90a9-638a-474b-f1a9-dd603aa56e4c"
   },
   "outputs": [
    {
     "metadata": {
      "tags": null
     },
     "name": "stdout",
     "output_type": "stream",
     "text": [
      "\u001b[2K     \u001b[90m━━━━━━━━━━━━━━━━━━━━━━━━━━━━━━━━━━━━━━━━\u001b[0m \u001b[32m2.2/2.2 MB\u001b[0m \u001b[31m58.5 MB/s\u001b[0m eta \u001b[36m0:00:00\u001b[0m\n",
      "\u001b[2K     \u001b[90m━━━━━━━━━━━━━━━━━━━━━━━━━━━━━━━━━━━━━━━━\u001b[0m \u001b[32m12.8/12.8 MB\u001b[0m \u001b[31m72.7 MB/s\u001b[0m eta \u001b[36m0:00:00\u001b[0m\n",
      "\u001b[2K     \u001b[90m━━━━━━━━━━━━━━━━━━━━━━━━━━━━━━━━━━━━━━\u001b[0m \u001b[32m557.7/557.7 MB\u001b[0m \u001b[31m13.1 MB/s\u001b[0m eta \u001b[36m0:00:00\u001b[0m\n",
      "\u001b[2K     \u001b[90m━━━━━━━━━━━━━━━━━━━━━━━━━━━━━━━━━━━━━━\u001b[0m \u001b[32m160.2/160.2 kB\u001b[0m \u001b[31m36.9 MB/s\u001b[0m eta \u001b[36m0:00:00\u001b[0m\n",
      "\u001b[2K     \u001b[90m━━━━━━━━━━━━━━━━━━━━━━━━━━━━━━━━━━━━━━━━\u001b[0m \u001b[32m27.3/27.3 MB\u001b[0m \u001b[31m32.9 MB/s\u001b[0m eta \u001b[36m0:00:00\u001b[0m\n",
      "\u001b[2K     \u001b[90m━━━━━━━━━━━━━━━━━━━━━━━━━━━━━━━━━━━━━━━\u001b[0m \u001b[32m768.5/768.5 MB\u001b[0m \u001b[31m2.4 MB/s\u001b[0m eta \u001b[36m0:00:00\u001b[0m\n",
      "\u001b[2K     \u001b[90m━━━━━━━━━━━━━━━━━━━━━━━━━━━━━━━━━━━━━━━━\u001b[0m \u001b[32m3.4/3.4 MB\u001b[0m \u001b[31m70.9 MB/s\u001b[0m eta \u001b[36m0:00:00\u001b[0m\n",
      "\u001b[2K     \u001b[90m━━━━━━━━━━━━━━━━━━━━━━━━━━━━━━━━━━━━━━━━\u001b[0m \u001b[32m7.3/7.3 MB\u001b[0m \u001b[31m85.1 MB/s\u001b[0m eta \u001b[36m0:00:00\u001b[0m\n",
      "\u001b[2K     \u001b[90m━━━━━━━━━━━━━━━━━━━━━━━━━━━━━━━━━━━━━━━━\u001b[0m \u001b[32m60.8/60.8 kB\u001b[0m \u001b[31m3.4 MB/s\u001b[0m eta \u001b[36m0:00:00\u001b[0m\n",
      "\u001b[2K     \u001b[90m━━━━━━━━━━━━━━━━━━━━━━━━━━━━━━━━━━━━━━━━\u001b[0m \u001b[32m80.3/80.3 kB\u001b[0m \u001b[31m5.3 MB/s\u001b[0m eta \u001b[36m0:00:00\u001b[0m\n",
      "\u001b[2K     \u001b[90m━━━━━━━━━━━━━━━━━━━━━━━━━━━━━━━━━━━━━━━━\u001b[0m \u001b[32m71.8/71.8 kB\u001b[0m \u001b[31m3.3 MB/s\u001b[0m eta \u001b[36m0:00:00\u001b[0m\n",
      "\u001b[2K   \u001b[90m━━━━━━━━━━━━━━━━━━━━━━━━━━━━━━━━━━━━━━━━\u001b[0m \u001b[32m41.2/41.2 MB\u001b[0m \u001b[31m23.4 MB/s\u001b[0m eta \u001b[36m0:00:00\u001b[0m\n",
      "\u001b[2K   \u001b[90m━━━━━━━━━━━━━━━━━━━━━━━━━━━━━━━━━━━━━━━━\u001b[0m \u001b[32m345.1/345.1 kB\u001b[0m \u001b[31m3.9 MB/s\u001b[0m eta \u001b[36m0:00:00\u001b[0m\n",
      "\u001b[2K   \u001b[90m━━━━━━━━━━━━━━━━━━━━━━━━━━━━━━━━━━━━━━━━\u001b[0m \u001b[32m2.0/2.0 MB\u001b[0m \u001b[31m58.8 MB/s\u001b[0m eta \u001b[36m0:00:00\u001b[0m\n",
      "\u001b[2K   \u001b[90m━━━━━━━━━━━━━━━━━━━━━━━━━━━━━━━━━━━━━━━━\u001b[0m \u001b[32m1.2/1.2 MB\u001b[0m \u001b[31m49.2 MB/s\u001b[0m eta \u001b[36m0:00:00\u001b[0m\n",
      "\u001b[2K   \u001b[90m━━━━━━━━━━━━━━━━━━━━━━━━━━━━━━━━━━━━━━━━\u001b[0m \u001b[32m4.4/4.4 MB\u001b[0m \u001b[31m57.7 MB/s\u001b[0m eta \u001b[36m0:00:00\u001b[0m\n",
      "\u001b[2K   \u001b[90m━━━━━━━━━━━━━━━━━━━━━━━━━━━━━━━━━━━━━━━━\u001b[0m \u001b[32m6.9/6.9 MB\u001b[0m \u001b[31m86.8 MB/s\u001b[0m eta \u001b[36m0:00:00\u001b[0m\n",
      "\u001b[2K   \u001b[90m━━━━━━━━━━━━━━━━━━━━━━━━━━━━━━━━━━━━━━━━\u001b[0m \u001b[32m3.2/3.2 MB\u001b[0m \u001b[31m67.5 MB/s\u001b[0m eta \u001b[36m0:00:00\u001b[0m\n",
      "\u001b[2K   \u001b[90m━━━━━━━━━━━━━━━━━━━━━━━━━━━━━━━━━━━━━━━━\u001b[0m \u001b[32m461.6/461.6 kB\u001b[0m \u001b[31m22.7 MB/s\u001b[0m eta \u001b[36m0:00:00\u001b[0m\n",
      "\u001b[2K   \u001b[90m━━━━━━━━━━━━━━━━━━━━━━━━━━━━━━━━━━━━━━━━\u001b[0m \u001b[32m134.0/134.0 kB\u001b[0m \u001b[31m6.6 MB/s\u001b[0m eta \u001b[36m0:00:00\u001b[0m\n",
      "\u001b[2K   \u001b[90m━━━━━━━━━━━━━━━━━━━━━━━━━━━━━━━━━━━━━━━━\u001b[0m \u001b[32m456.0/456.0 kB\u001b[0m \u001b[31m24.0 MB/s\u001b[0m eta \u001b[36m0:00:00\u001b[0m\n",
      "\u001b[2K   \u001b[90m━━━━━━━━━━━━━━━━━━━━━━━━━━━━━━━━━━━━━━━━\u001b[0m \u001b[32m274.9/274.9 kB\u001b[0m \u001b[31m15.6 MB/s\u001b[0m eta \u001b[36m0:00:00\u001b[0m\n",
      "\u001b[2K   \u001b[90m━━━━━━━━━━━━━━━━━━━━━━━━━━━━━━━━━━━━━━━━\u001b[0m \u001b[32m13.1/13.1 MB\u001b[0m \u001b[31m56.6 MB/s\u001b[0m eta \u001b[36m0:00:00\u001b[0m\n",
      "\u001b[2K   \u001b[90m━━━━━━━━━━━━━━━━━━━━━━━━━━━━━━━━━━━━━━━━\u001b[0m \u001b[32m7.6/7.6 MB\u001b[0m \u001b[31m90.5 MB/s\u001b[0m eta \u001b[36m0:00:00\u001b[0m\n",
      "\u001b[2K   \u001b[90m━━━━━━━━━━━━━━━━━━━━━━━━━━━━━━━━━━━━━━━━\u001b[0m \u001b[32m256.2/256.2 kB\u001b[0m \u001b[31m13.2 MB/s\u001b[0m eta \u001b[36m0:00:00\u001b[0m\n",
      "\u001b[2K   \u001b[90m━━━━━━━━━━━━━━━━━━━━━━━━━━━━━━━━━━━━━━━━\u001b[0m \u001b[32m484.1/484.1 kB\u001b[0m \u001b[31m23.7 MB/s\u001b[0m eta \u001b[36m0:00:00\u001b[0m\n",
      "\u001b[2K   \u001b[90m━━━━━━━━━━━━━━━━━━━━━━━━━━━━━━━━━━━━━━━━\u001b[0m \u001b[32m358.6/358.6 kB\u001b[0m \u001b[31m20.2 MB/s\u001b[0m eta \u001b[36m0:00:00\u001b[0m\n",
      "\u001b[2K   \u001b[90m━━━━━━━━━━━━━━━━━━━━━━━━━━━━━━━━━━━━━━━━\u001b[0m \u001b[32m154.7/154.7 kB\u001b[0m \u001b[31m9.2 MB/s\u001b[0m eta \u001b[36m0:00:00\u001b[0m\n",
      "\u001b[2K   \u001b[90m━━━━━━━━━━━━━━━━━━━━━━━━━━━━━━━━━━━━━━━━\u001b[0m \u001b[32m175.4/175.4 kB\u001b[0m \u001b[31m9.2 MB/s\u001b[0m eta \u001b[36m0:00:00\u001b[0m\n",
      "\u001b[2K   \u001b[90m━━━━━━━━━━━━━━━━━━━━━━━━━━━━━━━━━━━━━━━━\u001b[0m \u001b[32m583.9/583.9 kB\u001b[0m \u001b[31m25.6 MB/s\u001b[0m eta \u001b[36m0:00:00\u001b[0m\n",
      "\u001b[2K   \u001b[90m━━━━━━━━━━━━━━━━━━━━━━━━━━━━━━━━━━━━━━━━\u001b[0m \u001b[32m58.3/58.3 kB\u001b[0m \u001b[31m3.2 MB/s\u001b[0m eta \u001b[36m0:00:00\u001b[0m\n",
      "\u001b[2K   \u001b[90m━━━━━━━━━━━━━━━━━━━━━━━━━━━━━━━━━━━━━━━━\u001b[0m \u001b[32m2.2/2.2 MB\u001b[0m \u001b[31m65.7 MB/s\u001b[0m eta \u001b[36m0:00:00\u001b[0m\n",
      "\u001b[2K   \u001b[90m━━━━━━━━━━━━━━━━━━━━━━━━━━━━━━━━━━━━━━━━\u001b[0m \u001b[32m903.1/903.1 kB\u001b[0m \u001b[31m36.1 MB/s\u001b[0m eta \u001b[36m0:00:00\u001b[0m\n",
      "\u001b[2K   \u001b[90m━━━━━━━━━━━━━━━━━━━━━━━━━━━━━━━━━━━━━━━━\u001b[0m \u001b[32m78.7/78.7 kB\u001b[0m \u001b[31m5.3 MB/s\u001b[0m eta \u001b[36m0:00:00\u001b[0m\n",
      "\u001b[2K   \u001b[90m━━━━━━━━━━━━━━━━━━━━━━━━━━━━━━━━━━━━━━━━\u001b[0m \u001b[32m1.6/1.6 MB\u001b[0m \u001b[31m55.0 MB/s\u001b[0m eta \u001b[36m0:00:00\u001b[0m\n",
      "\u001b[2K   \u001b[90m━━━━━━━━━━━━━━━━━━━━━━━━━━━━━━━━━━━━━━━━\u001b[0m \u001b[32m336.0/336.0 kB\u001b[0m \u001b[31m16.7 MB/s\u001b[0m eta \u001b[36m0:00:00\u001b[0m\n",
      "\u001b[2K   \u001b[90m━━━━━━━━━━━━━━━━━━━━━━━━━━━━━━━━━━━━━━━━\u001b[0m \u001b[32m63.4/63.4 kB\u001b[0m \u001b[31m3.6 MB/s\u001b[0m eta \u001b[36m0:00:00\u001b[0m\n",
      "\u001b[2K   \u001b[90m━━━━━━━━━━━━━━━━━━━━━━━━━━━━━━━━━━━━━━━━\u001b[0m \u001b[32m1.0/1.0 MB\u001b[0m \u001b[31m39.9 MB/s\u001b[0m eta \u001b[36m0:00:00\u001b[0m\n",
      "\u001b[2K   \u001b[90m━━━━━━━━━━━━━━━━━━━━━━━━━━━━━━━━━━━━━━━━\u001b[0m \u001b[32m433.6/433.6 kB\u001b[0m \u001b[31m20.6 MB/s\u001b[0m eta \u001b[36m0:00:00\u001b[0m\n",
      "\u001b[2K   \u001b[90m━━━━━━━━━━━━━━━━━━━━━━━━━━━━━━━━━━━━━━━━\u001b[0m \u001b[32m358.3/358.3 kB\u001b[0m \u001b[31m17.0 MB/s\u001b[0m eta \u001b[36m0:00:00\u001b[0m\n",
      "\u001b[2K   \u001b[90m━━━━━━━━━━━━━━━━━━━━━━━━━━━━━━━━━━━━━━━━\u001b[0m \u001b[32m27.5/27.5 MB\u001b[0m \u001b[31m8.7 MB/s\u001b[0m eta \u001b[36m0:00:00\u001b[0m\n",
      "\u001b[2K   \u001b[90m━━━━━━━━━━━━━━━━━━━━━━━━━━━━━━━━━━━━━━━━\u001b[0m \u001b[32m5.0/5.0 MB\u001b[0m \u001b[31m78.6 MB/s\u001b[0m eta \u001b[36m0:00:00\u001b[0m\n",
      "\u001b[2K   \u001b[90m━━━━━━━━━━━━━━━━━━━━━━━━━━━━━━━━━━━━━━━━\u001b[0m \u001b[32m63.0/63.0 kB\u001b[0m \u001b[31m3.5 MB/s\u001b[0m eta \u001b[36m0:00:00\u001b[0m\n",
      "\u001b[2K   \u001b[90m━━━━━━━━━━━━━━━━━━━━━━━━━━━━━━━━━━━━━━━━\u001b[0m \u001b[32m325.7/325.7 kB\u001b[0m \u001b[31m16.2 MB/s\u001b[0m eta \u001b[36m0:00:00\u001b[0m\n",
      "\u001b[2K   \u001b[90m━━━━━━━━━━━━━━━━━━━━━━━━━━━━━━━━━━━━━━━━\u001b[0m \u001b[32m10.0/10.0 MB\u001b[0m \u001b[31m62.3 MB/s\u001b[0m eta \u001b[36m0:00:00\u001b[0m\n",
      "\u001b[2K   \u001b[90m━━━━━━━━━━━━━━━━━━━━━━━━━━━━━━━━━━━━━━━━\u001b[0m \u001b[32m363.4/363.4 MB\u001b[0m \u001b[31m3.5 MB/s\u001b[0m eta \u001b[36m0:00:00\u001b[0m\n",
      "\u001b[2K   \u001b[90m━━━━━━━━━━━━━━━━━━━━━━━━━━━━━━━━━━━━━━━━\u001b[0m \u001b[32m13.8/13.8 MB\u001b[0m \u001b[31m79.4 MB/s\u001b[0m eta \u001b[36m0:00:00\u001b[0m\n",
      "\u001b[2K   \u001b[90m━━━━━━━━━━━━━━━━━━━━━━━━━━━━━━━━━━━━━━━━\u001b[0m \u001b[32m24.6/24.6 MB\u001b[0m \u001b[31m45.3 MB/s\u001b[0m eta \u001b[36m0:00:00\u001b[0m\n",
      "\u001b[2K   \u001b[90m━━━━━━━━━━━━━━━━━━━━━━━━━━━━━━━━━━━━━━━━\u001b[0m \u001b[32m883.7/883.7 kB\u001b[0m \u001b[31m17.9 MB/s\u001b[0m eta \u001b[36m0:00:00\u001b[0m\n",
      "\u001b[2K   \u001b[90m━━━━━━━━━━━━━━━━━━━━━━━━━━━━━━━━━━━━━━━━\u001b[0m \u001b[32m664.8/664.8 MB\u001b[0m \u001b[31m3.0 MB/s\u001b[0m eta \u001b[36m0:00:00\u001b[0m\n",
      "\u001b[2K   \u001b[90m━━━━━━━━━━━━━━━━━━━━━━━━━━━━━━━━━━━━━━━━\u001b[0m \u001b[32m211.5/211.5 MB\u001b[0m \u001b[31m7.1 MB/s\u001b[0m eta \u001b[36m0:00:00\u001b[0m\n",
      "\u001b[2K   \u001b[90m━━━━━━━━━━━━━━━━━━━━━━━━━━━━━━━━━━━━━━━━\u001b[0m \u001b[32m56.3/56.3 MB\u001b[0m \u001b[31m12.7 MB/s\u001b[0m eta \u001b[36m0:00:00\u001b[0m\n",
      "\u001b[2K   \u001b[90m━━━━━━━━━━━━━━━━━━━━━━━━━━━━━━━━━━━━━━━━\u001b[0m \u001b[32m127.9/127.9 MB\u001b[0m \u001b[31m8.0 MB/s\u001b[0m eta \u001b[36m0:00:00\u001b[0m\n",
      "\u001b[2K   \u001b[90m━━━━━━━━━━━━━━━━━━━━━━━━━━━━━━━━━━━━━━━━\u001b[0m \u001b[32m207.5/207.5 MB\u001b[0m \u001b[31m5.9 MB/s\u001b[0m eta \u001b[36m0:00:00\u001b[0m\n",
      "\u001b[2K   \u001b[90m━━━━━━━━━━━━━━━━━━━━━━━━━━━━━━━━━━━━━━━━\u001b[0m \u001b[32m21.1/21.1 MB\u001b[0m \u001b[31m77.6 MB/s\u001b[0m eta \u001b[36m0:00:00\u001b[0m\n",
      "\u001b[2K   \u001b[90m━━━━━━━━━━━━━━━━━━━━━━━━━━━━━━━━━━━━━━━━\u001b[0m \u001b[32m647.0/647.0 kB\u001b[0m \u001b[31m31.2 MB/s\u001b[0m eta \u001b[36m0:00:00\u001b[0m\n",
      "\u001b[2K   \u001b[90m━━━━━━━━━━━━━━━━━━━━━━━━━━━━━━━━━━━━━━━━\u001b[0m \u001b[32m28.2/28.2 MB\u001b[0m \u001b[31m55.2 MB/s\u001b[0m eta \u001b[36m0:00:00\u001b[0m\n",
      "\u001b[2K   \u001b[90m━━━━━━━━━━━━━━━━━━━━━━━━━━━━━━━━━━━━━━━━\u001b[0m \u001b[32m374.8/374.8 kB\u001b[0m \u001b[31m19.3 MB/s\u001b[0m eta \u001b[36m0:00:00\u001b[0m\n",
      "\u001b[2K   \u001b[90m━━━━━━━━━━━━━━━━━━━━━━━━━━━━━━━━━━━━━━━━\u001b[0m \u001b[32m4.5/4.5 MB\u001b[0m \u001b[31m58.7 MB/s\u001b[0m eta \u001b[36m0:00:00\u001b[0m\n",
      "\u001b[2K   \u001b[90m━━━━━━━━━━━━━━━━━━━━━━━━━━━━━━━━━━━━━━━━\u001b[0m \u001b[32m5.5/5.5 MB\u001b[0m \u001b[31m65.3 MB/s\u001b[0m eta \u001b[36m0:00:00\u001b[0m\n",
      "\u001b[2K   \u001b[90m━━━━━━━━━━━━━━━━━━━━━━━━━━━━━━━━━━━━━━━━\u001b[0m \u001b[32m1.2/1.2 MB\u001b[0m \u001b[31m45.1 MB/s\u001b[0m eta \u001b[36m0:00:00\u001b[0m\n",
      "\u001b[2K   \u001b[90m━━━━━━━━━━━━━━━━━━━━━━━━━━━━━━━━━━━━━━━━\u001b[0m \u001b[32m517.9/517.9 kB\u001b[0m \u001b[31m25.5 MB/s\u001b[0m eta \u001b[36m0:00:00\u001b[0m\n",
      "\u001b[2K   \u001b[90m━━━━━━━━━━━━━━━━━━━━━━━━━━━━━━━━━━━━━━━━\u001b[0m \u001b[32m4.1/4.1 MB\u001b[0m \u001b[31m66.5 MB/s\u001b[0m eta \u001b[36m0:00:00\u001b[0m\n",
      "\u001b[2K   \u001b[90m━━━━━━━━━━━━━━━━━━━━━━━━━━━━━━━━━━━━━━━━\u001b[0m \u001b[32m247.7/247.7 kB\u001b[0m \u001b[31m12.2 MB/s\u001b[0m eta \u001b[36m0:00:00\u001b[0m\n",
      "\u001b[2K   \u001b[90m━━━━━━━━━━━━━━━━━━━━━━━━━━━━━━━━━━━━━━━━\u001b[0m \u001b[32m340.6/340.6 kB\u001b[0m \u001b[31m13.6 MB/s\u001b[0m eta \u001b[36m0:00:00\u001b[0m\n",
      "\u001b[2K   \u001b[90m━━━━━━━━━━━━━━━━━━━━━━━━━━━━━━━━━━━━━━━━\u001b[0m \u001b[32m972.6/972.6 kB\u001b[0m \u001b[31m36.3 MB/s\u001b[0m eta \u001b[36m0:00:00\u001b[0m\n",
      "\u001b[2K   \u001b[90m━━━━━━━━━━━━━━━━━━━━━━━━━━━━━━━━━━━━━━━━\u001b[0m \u001b[32m307.8/307.8 kB\u001b[0m \u001b[31m19.2 MB/s\u001b[0m eta \u001b[36m0:00:00\u001b[0m\n",
      "\u001b[2K   \u001b[90m━━━━━━━━━━━━━━━━━━━━━━━━━━━━━━━━━━━━━━━━\u001b[0m \u001b[32m18.3/18.3 MB\u001b[0m \u001b[31m7.8 MB/s\u001b[0m eta \u001b[36m0:00:00\u001b[0m\n",
      "\u001b[2K   \u001b[90m━━━━━━━━━━━━━━━━━━━━━━━━━━━━━━━━━━━━━━━━\u001b[0m \u001b[32m67.0/67.0 kB\u001b[0m \u001b[31m3.5 MB/s\u001b[0m eta \u001b[36m0:00:00\u001b[0m\n",
      "\u001b[2K   \u001b[90m━━━━━━━━━━━━━━━━━━━━━━━━━━━━━━━━━━━━━━━━\u001b[0m \u001b[32m128.4/128.4 kB\u001b[0m \u001b[31m5.6 MB/s\u001b[0m eta \u001b[36m0:00:00\u001b[0m\n",
      "\u001b[2K   \u001b[90m━━━━━━━━━━━━━━━━━━━━━━━━━━━━━━━━━━━━━━━━\u001b[0m \u001b[32m20.9/20.9 MB\u001b[0m \u001b[31m76.2 MB/s\u001b[0m eta \u001b[36m0:00:00\u001b[0m\n",
      "\u001b[2K   \u001b[90m━━━━━━━━━━━━━━━━━━━━━━━━━━━━━━━━━━━━━━━━\u001b[0m \u001b[32m1.2/1.2 MB\u001b[0m \u001b[31m43.3 MB/s\u001b[0m eta \u001b[36m0:00:00\u001b[0m\n",
      "\u001b[2K   \u001b[90m━━━━━━━━━━━━━━━━━━━━━━━━━━━━━━━━━━━━━━━━\u001b[0m \u001b[32m358.7/358.7 kB\u001b[0m \u001b[31m21.9 MB/s\u001b[0m eta \u001b[36m0:00:00\u001b[0m\n",
      "\u001b[2K   \u001b[90m━━━━━━━━━━━━━━━━━━━━━━━━━━━━━━━━━━━━━━━━\u001b[0m \u001b[32m109.8/109.8 kB\u001b[0m \u001b[31m6.9 MB/s\u001b[0m eta \u001b[36m0:00:00\u001b[0m\n",
      "\u001b[?25h"
     ]
    }
   ],
   "source": [
    "# === Install dependencies from requirements.txt ===\n",
    "!pip install -r My-BS-Thesis/requirements.txt -q"
   ]
  },
  {
   "cell_type": "code",
   "execution_count": 4,
   "metadata": {
    "colab": {
     "base_uri": "https://localhost:8080/"
    },
    "executionInfo": {
     "elapsed": 5773,
     "status": "ok",
     "timestamp": 1745924030775,
     "user": {
      "displayName": "Georgii Budnik",
      "userId": "14371656724304164452"
     },
     "user_tz": -600
    },
    "id": "BHJuduWcgS3i",
    "outputId": "9cef4308-e427-4727-831e-5beb55e6eb52"
   },
   "outputs": [
    {
     "name": "stdout",
     "output_type": "stream",
     "text": [
      "\u001b[2K   \u001b[90m━━━━━━━━━━━━━━━━━━━━━━━━━━━━━━━━━━━━━━━━\u001b[0m \u001b[32m8.9/8.9 MB\u001b[0m \u001b[31m35.1 MB/s\u001b[0m eta \u001b[36m0:00:00\u001b[0m\n",
      "\u001b[?25h"
     ]
    }
   ],
   "source": [
    "!pip install implicit -q"
   ]
  },
  {
   "cell_type": "code",
   "execution_count": 5,
   "metadata": {
    "executionInfo": {
     "elapsed": 673,
     "status": "ok",
     "timestamp": 1745924031452,
     "user": {
      "displayName": "Georgii Budnik",
      "userId": "14371656724304164452"
     },
     "user_tz": -600
    },
    "id": "sCI_llZrhTIh"
   },
   "outputs": [],
   "source": [
    "import pickle\n",
    "import zipfile\n",
    "import numpy as np\n",
    "import pandas as pd\n",
    "from tqdm import tqdm\n",
    "from scipy.sparse import load_npz, csr_matrix\n",
    "from implicit.nearest_neighbours import CosineRecommender"
   ]
  },
  {
   "cell_type": "code",
   "execution_count": 7,
   "metadata": {
    "executionInfo": {
     "elapsed": 181,
     "status": "ok",
     "timestamp": 1745924200079,
     "user": {
      "displayName": "Georgii Budnik",
      "userId": "14371656724304164452"
     },
     "user_tz": -600
    },
    "id": "L697arWjhWjM"
   },
   "outputs": [],
   "source": [
    "# === Set paths ===\n",
    "processed_data = os.path.join(repo_dir, 'data', 'processed')\n",
    "interim_data = os.path.join(repo_dir, 'data', 'interim')\n",
    "artifacts_dir = os.path.join(repo_dir, 'artifacts')\n",
    "\n",
    "binary_matrix_path = os.path.join(processed_data, 'user_item_binary_matrix.npz')\n",
    "train_zip_path = os.path.join(processed_data, 'train_df.zip')\n",
    "test_zip_path = os.path.join(processed_data, 'test_df.zip')\n",
    "map_path = os.path.join(artifacts_dir, 'mapping.pkl')\n",
    "\n",
    "embedding_zip1 = os.path.join(artifacts_dir, 'item_embeddings_minilm_part1.zip')\n",
    "embedding_zip2 = os.path.join(artifacts_dir, 'item_embeddings_minilm_part2.zip')\n",
    "\n",
    "cluster_zip_path = os.path.join(interim_data, 'labeled_products_by_behavior.zip')"
   ]
  },
  {
   "cell_type": "code",
   "execution_count": 8,
   "metadata": {
    "colab": {
     "base_uri": "https://localhost:8080/"
    },
    "executionInfo": {
     "elapsed": 3011,
     "status": "ok",
     "timestamp": 1745924421878,
     "user": {
      "displayName": "Georgii Budnik",
      "userId": "14371656724304164452"
     },
     "user_tz": -600
    },
    "id": "Jjy84NVThg0g",
    "outputId": "337731c2-2cfc-4056-8498-d84dbcd472df"
   },
   "outputs": [
    {
     "name": "stdout",
     "output_type": "stream",
     "text": [
      "✅ Binary matrix and data loaded.\n",
      "✅ MiniLM embeddings loaded: 12881 items.\n",
      "✅ Сlustering labels loaded.\n"
     ]
    }
   ],
   "source": [
    "# === Load data ===\n",
    "user_item_matrix = load_npz(binary_matrix_path)\n",
    "\n",
    "with zipfile.ZipFile(train_zip_path, 'r') as zip_ref:\n",
    "    with zip_ref.open(\"train_df.csv\") as f:\n",
    "        train_df = pd.read_csv(f)\n",
    "\n",
    "with zipfile.ZipFile(test_zip_path, 'r') as zip_ref:\n",
    "    with zip_ref.open(\"test_df.csv\") as f:\n",
    "        test_df = pd.read_csv(f)\n",
    "\n",
    "with open(map_path, 'rb') as f:\n",
    "    mappings = pickle.load(f)\n",
    "\n",
    "user_map = mappings['user_map']\n",
    "item_map = mappings['item_map']\n",
    "reverse_item_map = mappings['reverse_item_map']\n",
    "print(\"✅ Binary matrix and data loaded.\")\n",
    "\n",
    "# === Load embeddings ===\n",
    "def load_embeddings_from_zip(zip_path):\n",
    "    with zipfile.ZipFile(zip_path, 'r') as zipf:\n",
    "        filename = zipf.namelist()[0]\n",
    "        with zipf.open(filename) as f:\n",
    "            return pickle.load(f)\n",
    "\n",
    "embeddings_1 = load_embeddings_from_zip(embedding_zip1)\n",
    "embeddings_2 = load_embeddings_from_zip(embedding_zip2)\n",
    "item_embeddings = {**embeddings_1, **embeddings_2}\n",
    "print(f\"✅ MiniLM embeddings loaded: {len(item_embeddings)} items.\")\n",
    "\n",
    "# === Load clustering labels from zip ===\n",
    "with zipfile.ZipFile(cluster_zip_path, 'r') as zip_ref:\n",
    "    with zip_ref.open(\"labeled_products_by_behavior.csv\") as f:\n",
    "        cluster_df = pd.read_csv(f)\n",
    "print(\"✅ Сlustering labels loaded.\")"
   ]
  },
  {
   "cell_type": "code",
   "execution_count": 9,
   "metadata": {
    "colab": {
     "base_uri": "https://localhost:8080/",
     "height": 103,
     "referenced_widgets": [
      "419bddcf30654ef7bb250ae45cbe69c1",
      "f3b1578a8a5c42c3b3f123609a2bc75b",
      "04c91b5eabd0405da2d09aec43cba83b",
      "61e1c63220a74ca1a6e0c0711aad0a10",
      "52b6f67836ef42f7a050920cc9d926cc",
      "49929debc7a54b7db5927d45ddb57744",
      "bfef6fd873e74ca7adc2026ac08d2989",
      "a4d571366332410db3bc95760252220a",
      "35f9645082fd47ad8b624f3801f908bc",
      "c13d279ec58c437b8b18013bf792d085",
      "bfad4c0d83ce43fe9a077f271bcbf491"
     ]
    },
    "executionInfo": {
     "elapsed": 2002,
     "status": "ok",
     "timestamp": 1745924454950,
     "user": {
      "displayName": "Georgii Budnik",
      "userId": "14371656724304164452"
     },
     "user_tz": -600
    },
    "id": "s6Nr1KMXhr6v",
    "outputId": "ec629de0-fbbc-476a-bf52-963fed061ca1"
   },
   "outputs": [
    {
     "name": "stderr",
     "output_type": "stream",
     "text": [
      "/usr/local/lib/python3.11/dist-packages/implicit/utils.py:164: ParameterWarning: Method expects CSR input, and was passed coo_matrix instead. Converting to CSR took 0.0171811580657959 seconds\n",
      "  warnings.warn(\n"
     ]
    },
    {
     "data": {
      "application/vnd.jupyter.widget-view+json": {
       "model_id": "419bddcf30654ef7bb250ae45cbe69c1",
       "version_major": 2,
       "version_minor": 0
      },
      "text/plain": [
       "  0%|          | 0/12881 [00:00<?, ?it/s]"
      ]
     },
     "metadata": {},
     "output_type": "display_data"
    },
    {
     "name": "stdout",
     "output_type": "stream",
     "text": [
      "✅ Item2Item model trained.\n"
     ]
    }
   ],
   "source": [
    "# === Train Item2Item model ===\n",
    "item_model = CosineRecommender(K=10)\n",
    "item_model.fit(user_item_matrix)\n",
    "print(\"✅ Item2Item model trained.\")"
   ]
  },
  {
   "cell_type": "code",
   "execution_count": 17,
   "metadata": {
    "executionInfo": {
     "elapsed": 41,
     "status": "ok",
     "timestamp": 1745924967017,
     "user": {
      "displayName": "Georgii Budnik",
      "userId": "14371656724304164452"
     },
     "user_tz": -600
    },
    "id": "sCT1B7wrhuqh"
   },
   "outputs": [],
   "source": [
    "# === Recommended functions ===\n",
    "def make_coo_row(products):\n",
    "    row_data, row_cols = [], []\n",
    "    for item, quantity in products.items():\n",
    "        if item in item_map:\n",
    "            q = quantity[0] if isinstance(quantity, list) else quantity\n",
    "            row_cols.append(item_map[item])\n",
    "            row_data.append(float(q))\n",
    "    return csr_matrix((row_data, ([0]*len(row_data), row_cols)), shape=(1, len(item_map)))\n",
    "\n",
    "def recommend_items_with_clusters(products, item_embeddings, cluster_map, n=30):\n",
    "    row = make_coo_row(products).tocsr()\n",
    "    recs = item_model.recommend(\n",
    "        userid=0,\n",
    "        user_items=row,\n",
    "        N=n,\n",
    "        filter_already_liked_items=True,\n",
    "        recalculate_user=True\n",
    "    )\n",
    "    candidate_items = [reverse_item_map[idx] for idx in recs[0]]\n",
    "\n",
    "    basket_items = list(products.keys())\n",
    "    basket_embeddings = [item_embeddings[item] for item in basket_items if item in item_embeddings]\n",
    "    if not basket_embeddings:\n",
    "        return candidate_items[:n]\n",
    "\n",
    "    basket_embedding = np.mean(basket_embeddings, axis=0)\n",
    "    basket_clusters = [cluster_map.get(item) for item in basket_items if item in cluster_map]\n",
    "    cluster_counts = pd.Series(basket_clusters).value_counts()\n",
    "    top_clusters = cluster_counts.head(3).index.tolist()\n",
    "\n",
    "    similarities = []\n",
    "    for item in candidate_items:\n",
    "        if item not in item_embeddings:\n",
    "            continue\n",
    "        item_cluster = cluster_map.get(item)\n",
    "        if item_cluster not in top_clusters:\n",
    "            continue\n",
    "        sim = np.dot(basket_embedding, item_embeddings[item])\n",
    "        cluster_boost = 1.2 if item_cluster == top_clusters[0] else 1.1 if item_cluster == top_clusters[1] else 1.05\n",
    "        similarities.append((item, sim * cluster_boost))\n",
    "\n",
    "    ranked_items = sorted(similarities, key=lambda x: x[1], reverse=True)\n",
    "    return [item for item, _ in ranked_items[:n]]"
   ]
  },
  {
   "cell_type": "code",
   "execution_count": 11,
   "metadata": {
    "executionInfo": {
     "elapsed": 10,
     "status": "ok",
     "timestamp": 1745924493226,
     "user": {
      "displayName": "Georgii Budnik",
      "userId": "14371656724304164452"
     },
     "user_tz": -600
    },
    "id": "EjTBlKXlF3DO"
   },
   "outputs": [],
   "source": [
    "def ndcg_at_k(actual, predicted, k=20):\n",
    "    dcg = sum(1 / np.log2(i + 2) for i, p in enumerate(predicted[:k]) if p in actual)\n",
    "    ideal_dcg = sum(1 / np.log2(i + 2) for i in range(min(len(actual), k)))\n",
    "    return dcg / ideal_dcg if ideal_dcg > 0 else 0.0\n",
    "\n",
    "def mean_ndcg_at_k(actual_list, predicted_list, k=20):\n",
    "    return np.mean([ndcg_at_k(a, p, k) for a, p in zip(actual_list, predicted_list)])\n",
    "\n",
    "def recall_at_k(actual, predicted, k=20):\n",
    "    return len(set(predicted[:k]) & set(actual)) / len(actual) if actual else 0.0\n",
    "\n",
    "def mean_recall_at_k(actual_list, predicted_list, k=20):\n",
    "    return np.mean([recall_at_k(a, p, k) for a, p in zip(actual_list, predicted_list)])"
   ]
  },
  {
   "cell_type": "code",
   "execution_count": 18,
   "metadata": {
    "colab": {
     "base_uri": "https://localhost:8080/"
    },
    "executionInfo": {
     "elapsed": 58212,
     "status": "ok",
     "timestamp": 1745925051967,
     "user": {
      "displayName": "Georgii Budnik",
      "userId": "14371656724304164452"
     },
     "user_tz": -600
    },
    "id": "x_20G_KhhyZT",
    "outputId": "a82b9171-3031-4f93-afa2-48dc0b618125"
   },
   "outputs": [
    {
     "name": "stderr",
     "output_type": "stream",
     "text": [
      "Evaluating with DBSCAN: 100%|██████████| 80000/80000 [00:57<00:00, 1380.12it/s]\n"
     ]
    }
   ],
   "source": [
    "# === Evaluate on test set ===\n",
    "cluster_map = dict(zip(cluster_df[\"encoded_id\"], cluster_df[\"dbscan_cluster\"]))\n",
    "\n",
    "actual_orders = []\n",
    "predicted_orders = []\n",
    "\n",
    "for _, row in tqdm(test_df.iterrows(), total=len(test_df), desc=\"Evaluating with DBSCAN\"):\n",
    "    try:\n",
    "        products_dict = eval(row[\"products\"])\n",
    "        product_ids = list(products_dict.keys())\n",
    "        if len(product_ids) < 2:\n",
    "            continue\n",
    "        basket = product_ids[:len(product_ids)//2]\n",
    "        target = product_ids[len(product_ids)//2:]\n",
    "        basket_dict = {item: products_dict[item] for item in basket}\n",
    "        predicted = recommend_items_with_clusters(basket_dict, item_embeddings, cluster_map)\n",
    "        actual_orders.append(target)\n",
    "        predicted_orders.append(predicted)\n",
    "    except:\n",
    "        continue"
   ]
  },
  {
   "cell_type": "code",
   "execution_count": 19,
   "metadata": {
    "colab": {
     "base_uri": "https://localhost:8080/"
    },
    "executionInfo": {
     "elapsed": 266,
     "status": "ok",
     "timestamp": 1745925052399,
     "user": {
      "displayName": "Georgii Budnik",
      "userId": "14371656724304164452"
     },
     "user_tz": -600
    },
    "id": "RxNY4RgROE00",
    "outputId": "2088aea4-01fd-44bf-b14d-47ff368640ae"
   },
   "outputs": [
    {
     "name": "stdout",
     "output_type": "stream",
     "text": [
      "\n",
      "📈 Item2Item + MiniLM + DBSCAN nDCG@20: 0.0936\n",
      "📈 Item2Item + MiniLM + DBSCAN Recall@20: 0.1991\n"
     ]
    }
   ],
   "source": [
    "# === Final metrics ===\n",
    "ndcg_db = mean_ndcg_at_k(actual_orders, predicted_orders)\n",
    "recall_db = mean_recall_at_k(actual_orders, predicted_orders)\n",
    "\n",
    "print(f\"\\n📈 Item2Item + MiniLM + DBSCAN nDCG@20: {ndcg_db:.4f}\")\n",
    "print(f\"📈 Item2Item + MiniLM + DBSCAN Recall@20: {recall_db:.4f}\")"
   ]
  },
  {
   "cell_type": "code",
   "execution_count": 20,
   "metadata": {
    "colab": {
     "base_uri": "https://localhost:8080/"
    },
    "executionInfo": {
     "elapsed": 65781,
     "status": "ok",
     "timestamp": 1745925194121,
     "user": {
      "displayName": "Georgii Budnik",
      "userId": "14371656724304164452"
     },
     "user_tz": -600
    },
    "id": "jvmrSqDyiSXs",
    "outputId": "adad6128-f05b-4dfe-a181-2ed7ece03a43"
   },
   "outputs": [
    {
     "name": "stderr",
     "output_type": "stream",
     "text": [
      "Evaluating with HDBSCAN: 100%|██████████| 80000/80000 [01:05<00:00, 1217.01it/s]\n"
     ]
    }
   ],
   "source": [
    "# === Evaluate on test set ===\n",
    "cluster_map = dict(zip(cluster_df[\"encoded_id\"], cluster_df[\"hdbscan_cluster\"]))\n",
    "\n",
    "actual_orders = []\n",
    "predicted_orders = []\n",
    "\n",
    "for _, row in tqdm(test_df.iterrows(), total=len(test_df), desc=\"Evaluating with HDBSCAN\"):\n",
    "    try:\n",
    "        products_dict = eval(row[\"products\"])\n",
    "        product_ids = list(products_dict.keys())\n",
    "        if len(product_ids) < 2:\n",
    "            continue\n",
    "        basket = product_ids[:len(product_ids)//2]\n",
    "        target = product_ids[len(product_ids)//2:]\n",
    "        basket_dict = {item: products_dict[item] for item in basket}\n",
    "        predicted = recommend_items_with_clusters(basket_dict, item_embeddings, cluster_map)\n",
    "        actual_orders.append(target)\n",
    "        predicted_orders.append(predicted)\n",
    "    except:\n",
    "        continue"
   ]
  },
  {
   "cell_type": "code",
   "execution_count": 21,
   "metadata": {
    "colab": {
     "base_uri": "https://localhost:8080/"
    },
    "executionInfo": {
     "elapsed": 669,
     "status": "ok",
     "timestamp": 1745925194889,
     "user": {
      "displayName": "Georgii Budnik",
      "userId": "14371656724304164452"
     },
     "user_tz": -600
    },
    "id": "8vEJDgO5P0h9",
    "outputId": "95d32769-3f69-4c74-af32-64d66103e2d4"
   },
   "outputs": [
    {
     "name": "stdout",
     "output_type": "stream",
     "text": [
      "\n",
      "📈 Item2Item + MiniLM + HDBSCAN nDCG@20: 0.1049\n",
      "📈 Item2Item + MiniLM + HDBSCAN Recall@20: 0.2307\n"
     ]
    }
   ],
   "source": [
    "# === Final metrics ===\n",
    "ndcg_hdb = mean_ndcg_at_k(actual_orders, predicted_orders)\n",
    "recall_hdb = mean_recall_at_k(actual_orders, predicted_orders)\n",
    "\n",
    "print(f\"\\n📈 Item2Item + MiniLM + HDBSCAN nDCG@20: {ndcg_hdb:.4f}\")\n",
    "print(f\"📈 Item2Item + MiniLM + HDBSCAN Recall@20: {recall_hdb:.4f}\")"
   ]
  },
  {
   "cell_type": "code",
   "execution_count": null,
   "metadata": {
    "id": "q9B0cM8QpRUv"
   },
   "outputs": [],
   "source": []
  }
 ],
 "metadata": {
  "colab": {
   "authorship_tag": "ABX9TyOZNn1ZLix6Ihp41kwgFw+s",
   "provenance": []
  },
  "kernelspec": {
   "display_name": "Python 3",
   "name": "python3"
  },
  "language_info": {
   "name": "python"
  }
 },
 "nbformat": 4,
 "nbformat_minor": 0
}
